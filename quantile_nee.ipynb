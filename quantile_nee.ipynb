{
 "cells": [
  {
   "cell_type": "code",
   "execution_count": 1,
   "metadata": {},
   "outputs": [],
   "source": [
    "import numpy as np\n",
    "import arcpy\n",
    "from arcpy import sa\n",
    "from arcpy.sa import *"
   ]
  },
  {
   "cell_type": "code",
   "execution_count": 13,
   "metadata": {},
   "outputs": [
    {
     "name": "stdout",
     "output_type": "stream",
     "text": [
      "Значение NoData: None\n",
      "Число элементов после применения маски: 269931375\n",
      "Минимальное значение: -250.46934509277344, Максимальное значение: 149.02313232421875\n",
      "5-й квантиль: -53.527164459228516, 95-й квантиль: 6.696890830993652\n"
     ]
    },
    {
     "data": {
      "text/html": [
       "<div class='gpresult'><h2>Messages</h2><div id='messages' data-messages='[\"Время старта: 5 марта 2025 г. 23:42:07\",\"Успешно на 5 марта 2025 г. 23:42:07 (Затраченное время: 0,17 сек.)\"]' data-show='true'><div id = 'default' /></div></div>"
      ],
      "text/plain": [
       "<Result 'true'>"
      ]
     },
     "execution_count": 13,
     "metadata": {},
     "output_type": "execute_result"
    }
   ],
   "source": [
    "## Построение карт квантилей 5% и 95% \n",
    "arcpy.CheckOutExtension(\"Spatial\")\n",
    "\n",
    "nee_layer = arcpy.Raster(\"E:/GCAS/gcas_bio_opt_2010_2019/gcas_bio_opt_2019.tif\")\n",
    "mask_raster = arcpy.Raster(\"E:/ecoregions_palearctic_steppe/ecoregions.tif\")\n",
    "arcpy.env.cellSize = \"MINOF\"\n",
    "nee_layer = sa.ExtractByMask(nee_layer, mask_raster)\n",
    "nee_array = arcpy.RasterToNumPyArray(nee_layer)\n",
    "\n",
    "# Исключаем NoData\n",
    "no_data_value = nee_layer.noDataValue\n",
    "print(f\"Значение NoData: {no_data_value}\")\n",
    "\n",
    "if no_data_value is not None and np.isfinite(no_data_value):\n",
    "    mask = (nee_array != no_data_value)\n",
    "else:\n",
    "    mask = np.ones_like(nee_array, dtype=bool)\n",
    "   \n",
    "nee_array_masked = np.where(mask, nee_array, np.nan)\n",
    "print(f\"Число элементов после применения маски: {np.count_nonzero(~np.isnan(nee_array_masked))}\")\n",
    "\n",
    "if np.isnan(np.nanmin(nee_array_masked)):\n",
    "    raise ValueError(\"Массив после маски состоит только из NaN значений.\")\n",
    "\n",
    "min_value = np.nanmin(nee_array_masked)\n",
    "max_value = np.nanmax(nee_array_masked)\n",
    "print(f\"Минимальное значение: {min_value}, Максимальное значение: {max_value}\")\n",
    "q5 = np.nanpercentile(nee_array_masked, 5)\n",
    "q95 = np.nanpercentile(nee_array_masked, 95)\n",
    "print(f\"5-й квантиль: {q5}, 95-й квантиль: {q95}\")\n",
    "\n",
    "if q5 >= q95:\n",
    "    raise ValueError(f\"5-й квантиль больше или равен 95-му: {q5} >= {q95}\")\n",
    "\n",
    "remap = RemapRange([\n",
    "    [float(min_value), float(q5 + 1e-6), 1], # Включаем ровно 5% в 1-й класс\n",
    "    [float(q5 + 1e-6), float(q95), 2],       # Второй класс (между 5-м и 95-м квантилями)\n",
    "    [float(q95), float(max_value), 3]        # Включаем ровно 95% в 3-й класс\n",
    "])\n",
    "\n",
    "quantile_nee2019 = Reclassify(nee_layer, \"VALUE\", remap, \"NODATA\")\n",
    "final_raster_path = \"E:/GCAS/nee_quantile/quantile_nee2019.tif\"\n",
    "quantile_nee2019.save(final_raster_path)\n",
    "\n",
    "arcpy.CheckInExtension(\"Spatial\")\n",
    "arcpy.Delete_management(nee_layer)"
   ]
  },
  {
   "cell_type": "code",
   "execution_count": null,
   "metadata": {},
   "outputs": [],
   "source": []
  }
 ],
 "metadata": {
  "kernelspec": {
   "display_name": "ArcGISPro",
   "language": "Python",
   "name": "python3"
  },
  "language_info": {
   "file_extension": ".py",
   "name": "python",
   "version": "3"
  }
 },
 "nbformat": 4,
 "nbformat_minor": 2
}

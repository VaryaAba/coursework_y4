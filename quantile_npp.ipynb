{
 "cells": [
  {
   "cell_type": "code",
   "execution_count": 1,
   "metadata": {},
   "outputs": [],
   "source": [
    "import numpy as np\n",
    "import arcpy\n",
    "from arcpy import sa\n",
    "from arcpy.sa import *"
   ]
  },
  {
   "cell_type": "code",
   "execution_count": 4,
   "metadata": {},
   "outputs": [
    {
     "name": "stdout",
     "output_type": "stream",
     "text": [
      "Значение NoData: None\n",
      "Число элементов после применения маски: 79231609\n",
      "Минимальное значение: 1.0, Максимальное значение: 19256.0\n",
      "5-й квантиль: 531.0, 95-й квантиль: 5288.0\n"
     ]
    },
    {
     "data": {
      "text/plain": [
       "'CheckedOut'"
      ]
     },
     "execution_count": 4,
     "metadata": {},
     "output_type": "execute_result"
    }
   ],
   "source": [
    "## Построение карт квантилей 5% и 95% \n",
    "arcpy.CheckOutExtension(\"Spatial\")\n",
    "\n",
    "npp_layer = arcpy.Raster(\"E:/modis_2001_2024/npp_steppe/npp_ecoregions/npp2001_steppe_reclass_eco.tif\")\n",
    "mask_raster = arcpy.Raster(\"E:/ecoregions_palearctic_steppe/ecoregions.tif\")\n",
    "npp_layer = sa.ExtractByMask(npp_layer, mask_raster)\n",
    "npp_array = arcpy.RasterToNumPyArray(npp_layer)\n",
    "\n",
    "# Исключаем NoData\n",
    "no_data_value = npp_layer.noDataValue\n",
    "print(f\"Значение NoData: {no_data_value}\")\n",
    "\n",
    "if no_data_value is not None:\n",
    "    mask = (npp_array != 0) & (npp_array != no_data_value)\n",
    "else:\n",
    "    mask = (npp_array != 0)\n",
    "   \n",
    "npp_array_masked = np.where(mask, npp_array, np.nan)\n",
    "print(f\"Число элементов после применения маски: {np.count_nonzero(~np.isnan(npp_array_masked))}\")\n",
    "\n",
    "if np.isnan(np.nanmin(npp_array_masked)):\n",
    "    raise ValueError(\"Массив после маски состоит только из NaN значений.\")\n",
    "\n",
    "min_value = np.nanmin(npp_array_masked)\n",
    "max_value = np.nanmax(npp_array_masked)\n",
    "print(f\"Минимальное значение: {min_value}, Максимальное значение: {max_value}\")\n",
    "q5 = np.nanpercentile(npp_array_masked, 5)\n",
    "q95 = np.nanpercentile(npp_array_masked, 95)\n",
    "print(f\"5-й квантиль: {q5}, 95-й квантиль: {q95}\")\n",
    "\n",
    "if q5 >= q95:\n",
    "    raise ValueError(f\"5-й квантиль больше или равен 95-му: {q5} >= {q95}\")\n",
    "\n",
    "remap = RemapRange([\n",
    "    [float(min_value), float(q5 + 1e-6), 1], # Включаем ровно 5% в 1-й класс\n",
    "    [float(q5 + 1e-6), float(q95), 2],       # Второй класс (между 5-м и 95-м квантилями)\n",
    "    [float(q95), float(max_value), 3]        # Включаем ровно 95% в 3-й класс\n",
    "])\n",
    "\n",
    "quantile_npp2001 = Reclassify(npp_layer, \"VALUE\", remap, \"NODATA\")\n",
    "final_raster_path = \"E:/modis_2001_2024/npp_steppe/npp_ecoregions/quantile_npp2001.tif\"\n",
    "quantile_npp2001.save(final_raster_path)\n",
    "\n",
    "arcpy.CheckInExtension(\"Spatial\")\n",
    "arcpy.Delete_management(npp_layer)"
   ]
  }
 ],
 "metadata": {
  "kernelspec": {
   "display_name": "ArcGISPro",
   "language": "Python",
   "name": "python3"
  },
  "language_info": {
   "file_extension": ".py",
   "name": "python",
   "version": "3"
  }
 },
 "nbformat": 4,
 "nbformat_minor": 2
}

{
 "cells": [
  {
   "cell_type": "code",
   "execution_count": 1,
   "id": "7110decb",
   "metadata": {},
   "outputs": [],
   "source": [
    "import numpy as np\n",
    "import rasterio\n",
    "from rasterio.warp import reproject, Resampling\n",
    "from scipy.stats import pearsonr"
   ]
  },
  {
   "cell_type": "markdown",
   "id": "2a7d6b1e",
   "metadata": {},
   "source": [
    "correlation \"SPI - soil respiration\" for 2010-2019"
   ]
  },
  {
   "cell_type": "code",
   "execution_count": 2,
   "id": "4b5d5ad5",
   "metadata": {},
   "outputs": [],
   "source": [
    "sr_path = \"E:/diplom/SPI/EEFS/SR_EEFS_stack.tif\"\n",
    "spi_path = \"E:/diplom/SPI/EEFS/SPI3_EEFS_1019_stack.tif\"\n",
    "out_path = \"E:/diplom/SPI/EEFS/SR_SPI_EEFS_correlation.tif\""
   ]
  },
  {
   "cell_type": "code",
   "execution_count": 3,
   "id": "dd8a5885",
   "metadata": {},
   "outputs": [],
   "source": [
    "with rasterio.open(spi_path) as src_spi:\n",
    "    spi_stack = src_spi.read()\n",
    "    spi_profile = src_spi.profile\n",
    "    spi_transform = src_spi.transform\n",
    "    spi_crs = src_spi.crs\n",
    "    rows, cols = spi_stack.shape[1:]"
   ]
  },
  {
   "cell_type": "code",
   "execution_count": 4,
   "id": "60d45be6",
   "metadata": {},
   "outputs": [],
   "source": [
    "with rasterio.open(sr_path) as src_sr:\n",
    "    sr_stack_resampled = np.empty((src_sr.count, rows, cols), dtype=np.float32)\n",
    "    for i in range(src_sr.count):\n",
    "        reproject(\n",
    "            source=rasterio.band(src_sr, i + 1),\n",
    "            destination=sr_stack_resampled[i],\n",
    "            src_transform=src_sr.transform,\n",
    "            src_crs=src_sr.crs,\n",
    "            dst_transform=spi_transform,\n",
    "            dst_crs=spi_crs,\n",
    "            resampling=Resampling.bilinear)"
   ]
  },
  {
   "cell_type": "code",
   "execution_count": 6,
   "id": "c640cf34",
   "metadata": {},
   "outputs": [
    {
     "name": "stderr",
     "output_type": "stream",
     "text": [
      "C:\\Users\\varva\\AppData\\Local\\Temp\\ipykernel_13540\\2489684921.py:9: ConstantInputWarning: An input array is constant; the correlation coefficient is not defined.\n",
      "  corr, pv = pearsonr(sr_series[mask], spi_series[mask])\n"
     ]
    }
   ],
   "source": [
    "correlation_map = np.full((rows, cols), np.nan, dtype=np.float32)\n",
    "for i in range(rows):\n",
    "    for j in range(cols):\n",
    "        sr_series = sr_stack_resampled[:, i, j]\n",
    "        spi_series = spi_stack[:, i, j]\n",
    "        mask = np.isfinite(sr_series) & np.isfinite(spi_series)\n",
    "        if np.count_nonzero(mask) >= 3:\n",
    "            corr, _ = pearsonr(sr_series[mask], spi_series[mask])\n",
    "            correlation_map[i, j] = corr"
   ]
  },
  {
   "cell_type": "code",
   "execution_count": null,
   "id": "ff4d8393",
   "metadata": {},
   "outputs": [],
   "source": [
    "spi_profile.update(count=1, dtype=rasterio.float32)\n",
    "\n",
    "with rasterio.open(out_path, \"w\", **spi_profile) as dst:\n",
    "    dst.write(correlation_map, 1)"
   ]
  },
  {
   "cell_type": "markdown",
   "id": "05a8bab7",
   "metadata": {},
   "source": [
    "correlation \"SPI - NPP\" for 2001-2024"
   ]
  },
  {
   "cell_type": "code",
   "execution_count": 8,
   "id": "46954f77",
   "metadata": {},
   "outputs": [],
   "source": [
    "npp_path = \"E:/diplom/SPI/EEFS/NPP_EEFS_stack.tif\"\n",
    "spi_path = \"E:/diplom/SPI/EEFS/SPI3_EEFS_0124_stack.tif\"\n",
    "out_path = \"E:/diplom/SPI/EEFS/NPP_SPI_EEFS_correlation.tif\""
   ]
  },
  {
   "cell_type": "code",
   "execution_count": 9,
   "id": "6fe9bd2b",
   "metadata": {},
   "outputs": [],
   "source": [
    "with rasterio.open(spi_path) as src_spi:\n",
    "    spi_stack = src_spi.read()\n",
    "    spi_profile = src_spi.profile\n",
    "    spi_transform = src_spi.transform\n",
    "    spi_crs = src_spi.crs\n",
    "    rows, cols = spi_stack.shape[1:]"
   ]
  },
  {
   "cell_type": "code",
   "execution_count": 10,
   "id": "332f496f",
   "metadata": {},
   "outputs": [],
   "source": [
    "with rasterio.open(npp_path) as src_npp:\n",
    "    npp_stack_resampled = np.empty((src_npp.count, rows, cols), dtype=np.float32)\n",
    "    for i in range(src_npp.count):\n",
    "        reproject(\n",
    "            source=rasterio.band(src_npp, i + 1),\n",
    "            destination=npp_stack_resampled[i],\n",
    "            src_transform=src_npp.transform,\n",
    "            src_crs=src_npp.crs,\n",
    "            dst_transform=spi_transform,\n",
    "            dst_crs=spi_crs,\n",
    "            resampling=Resampling.bilinear)"
   ]
  },
  {
   "cell_type": "code",
   "execution_count": 11,
   "id": "3013d6a2",
   "metadata": {},
   "outputs": [
    {
     "name": "stderr",
     "output_type": "stream",
     "text": [
      "C:\\Users\\varva\\AppData\\Local\\Temp\\ipykernel_13540\\1760759145.py:8: ConstantInputWarning: An input array is constant; the correlation coefficient is not defined.\n",
      "  corr, _ = pearsonr(npp_series[mask], spi_series[mask])\n"
     ]
    }
   ],
   "source": [
    "correlation_map = np.full((rows, cols), np.nan, dtype=np.float32)\n",
    "for i in range(rows):\n",
    "    for j in range(cols):\n",
    "        npp_series = npp_stack_resampled[:, i, j]\n",
    "        spi_series = spi_stack[:, i, j]\n",
    "        mask = np.isfinite(npp_series) & np.isfinite(spi_series)\n",
    "        if np.count_nonzero(mask) >= 3:\n",
    "            corr, _ = pearsonr(npp_series[mask], spi_series[mask])\n",
    "            correlation_map[i, j] = corr"
   ]
  },
  {
   "cell_type": "code",
   "execution_count": 12,
   "id": "c37d621b",
   "metadata": {},
   "outputs": [],
   "source": [
    "spi_profile.update(count=1, dtype=rasterio.float32)\n",
    "\n",
    "with rasterio.open(out_path, \"w\", **spi_profile) as dst:\n",
    "    dst.write(correlation_map, 1)"
   ]
  },
  {
   "cell_type": "markdown",
   "id": "08f59b92",
   "metadata": {},
   "source": [
    "correlation \"temp2m - soil respiration\" for 2010-2019"
   ]
  },
  {
   "cell_type": "code",
   "execution_count": 12,
   "id": "2a68f3c5",
   "metadata": {},
   "outputs": [],
   "source": [
    "sr_path = \"E:/diplom/SPI/MMG/SR_MMG_stack.tif\"\n",
    "t2m_path = \"E:/diplom/2m_mean_temp/MMG/t2m_MMG_1019_stack.tif\"\n",
    "out_path = \"E:/diplom/2m_mean_temp/MMG/SR_t2m_MMG_correlation.tif\""
   ]
  },
  {
   "cell_type": "code",
   "execution_count": 13,
   "id": "22c8f9e9",
   "metadata": {},
   "outputs": [],
   "source": [
    "with rasterio.open(t2m_path) as src_t2m:\n",
    "    t2m_stack = src_t2m.read()\n",
    "    t2m_profile = src_t2m.profile\n",
    "    t2m_transform = src_t2m.transform\n",
    "    t2m_crs = src_t2m.crs\n",
    "    rows, cols = t2m_stack.shape[1:]"
   ]
  },
  {
   "cell_type": "code",
   "execution_count": 14,
   "id": "43a236c6",
   "metadata": {},
   "outputs": [],
   "source": [
    "with rasterio.open(sr_path) as src_sr:\n",
    "    sr_stack_resampled = np.empty((src_sr.count, rows, cols), dtype=np.float32)\n",
    "    for i in range(src_sr.count):\n",
    "        reproject(\n",
    "            source=rasterio.band(src_sr, i + 1),\n",
    "            destination=sr_stack_resampled[i],\n",
    "            src_transform=src_sr.transform,\n",
    "            src_crs=src_sr.crs,\n",
    "            dst_transform=t2m_transform,\n",
    "            dst_crs=t2m_crs,\n",
    "            resampling=Resampling.bilinear)"
   ]
  },
  {
   "cell_type": "code",
   "execution_count": 15,
   "id": "adf29d42",
   "metadata": {},
   "outputs": [
    {
     "name": "stderr",
     "output_type": "stream",
     "text": [
      "C:\\Users\\varva\\AppData\\Local\\Temp\\ipykernel_15156\\2714874073.py:8: ConstantInputWarning: An input array is constant; the correlation coefficient is not defined.\n",
      "  corr, _ = pearsonr(sr_series[mask], t2m_series[mask])\n"
     ]
    }
   ],
   "source": [
    "correlation_map = np.full((rows, cols), np.nan, dtype=np.float32)\n",
    "for i in range(rows):\n",
    "    for j in range(cols):\n",
    "        sr_series = sr_stack_resampled[:, i, j]\n",
    "        t2m_series = t2m_stack[:, i, j]\n",
    "        mask = np.isfinite(sr_series) & np.isfinite(t2m_series)\n",
    "        if np.count_nonzero(mask) >= 3:\n",
    "            corr, _ = pearsonr(sr_series[mask], t2m_series[mask])\n",
    "            correlation_map[i, j] = corr"
   ]
  },
  {
   "cell_type": "code",
   "execution_count": 16,
   "id": "84ab5c28",
   "metadata": {},
   "outputs": [],
   "source": [
    "t2m_profile.update(count=1, dtype=rasterio.float32)\n",
    "\n",
    "with rasterio.open(out_path, \"w\", **t2m_profile) as dst:\n",
    "    dst.write(correlation_map, 1)"
   ]
  }
 ],
 "metadata": {
  "kernelspec": {
   "display_name": "venv",
   "language": "python",
   "name": "python3"
  },
  "language_info": {
   "codemirror_mode": {
    "name": "ipython",
    "version": 3
   },
   "file_extension": ".py",
   "mimetype": "text/x-python",
   "name": "python",
   "nbconvert_exporter": "python",
   "pygments_lexer": "ipython3",
   "version": "3.9.13"
  }
 },
 "nbformat": 4,
 "nbformat_minor": 5
}

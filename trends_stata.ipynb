{
 "cells": [
  {
   "cell_type": "code",
   "execution_count": null,
   "id": "66a42118",
   "metadata": {},
   "outputs": [],
   "source": [
    "# imports\n",
    "import numpy as np\n",
    "import rasterio\n",
    "import glob\n",
    "import os\n",
    "\n",
    "from scipy.stats import linregress\n",
    "from numpy.polynomial.polynomial import polyval\n",
    "from numpy import polyfit"
   ]
  },
  {
   "cell_type": "code",
   "execution_count": null,
   "id": "ec115bdb",
   "metadata": {},
   "outputs": [],
   "source": [
    "# all input folders for NPP, NEE and SR trends statistics (were loaded one at a time because of the same name of the following variable)\n",
    "\n",
    "#input_folder_nee = 'E:/diplom/GCAS/gcas_bio_opt_2010_2019'\n",
    "#output_nee_r2 = 'E:/diplom/py_trends/nee_10_19_r2_polynom.tif'\n",
    "\n",
    "#input_folder_npp = 'E:/diplom/py_trends/npp_resample'\n",
    "#output_npp_r2 = 'E:/diplom/py_trends/npp_10_19_r2.tif'\n",
    "\n",
    "input_folder_sr = 'E:/diplom/py_trends/sr_resample'\n",
    "output_sr_r2 = 'E:/diplom/py_trends/sr_10_19_r2.tif'"
   ]
  },
  {
   "cell_type": "code",
   "execution_count": null,
   "id": "8e19d5e4",
   "metadata": {},
   "outputs": [],
   "source": [
    "tif_files = sorted(glob.glob(os.path.join(input_folder_nee, 'gcas_bio_opt_20*.tif')))\n",
    "years = list(range(2010, 2020))"
   ]
  },
  {
   "cell_type": "code",
   "execution_count": null,
   "id": "a58b8807",
   "metadata": {},
   "outputs": [],
   "source": [
    "tif_files = sorted(glob.glob(os.path.join(input_folder_npp, 'npp201*_steppe_kgC_5km.tif')))\n",
    "years = list(range(2010, 2020))"
   ]
  },
  {
   "cell_type": "code",
   "execution_count": 38,
   "id": "4861ea07",
   "metadata": {},
   "outputs": [],
   "source": [
    "tif_files = sorted(glob.glob(os.path.join(input_folder_sr, 'SR*.tif')))\n",
    "years = list(range(2010, 2020))"
   ]
  },
  {
   "cell_type": "code",
   "execution_count": 39,
   "id": "24e4bc6f",
   "metadata": {},
   "outputs": [],
   "source": [
    "arrays = []\n",
    "for f in tif_files:\n",
    "    with rasterio.open(f) as src:\n",
    "        arrays.append(src.read(1))\n",
    "        if 'profile' not in locals():\n",
    "            profile = src.profile"
   ]
  },
  {
   "cell_type": "code",
   "execution_count": null,
   "id": "a80e56c1",
   "metadata": {},
   "outputs": [],
   "source": [
    "# data arrays to the same format \n",
    "min_rows = min(arr.shape[0] for arr in arrays)\n",
    "min_cols = min(arr.shape[1] for arr in arrays)\n",
    "arrays_clipped = [arr[:min_rows, :min_cols] for arr in arrays]\n",
    "data = np.stack(arrays_clipped) \n",
    "\n",
    "r2 = np.full(data.shape[1:], np.nan, dtype=np.float32) # filling in a new NaN array for writing R2 later"
   ]
  },
  {
   "cell_type": "code",
   "execution_count": null,
   "id": "7ad5ab46",
   "metadata": {},
   "outputs": [],
   "source": [
    "# linear regeression\n",
    "for i in range(data.shape[1]):\n",
    "    for j in range(data.shape[2]):\n",
    "        y = data[:, i, j]\n",
    "        if np.all(np.isnan(y)) or np.sum(~np.isnan(y)) < 5:\n",
    "            continue\n",
    "        if np.any(np.abs(y) > 1e6):\n",
    "            continue\n",
    "        _, _, r_value, _, _ = linregress(years, y) # the slope was calculated in QGIS earlier, we need the statistics only\n",
    "        r2[i, j] = r_value ** 2"
   ]
  },
  {
   "cell_type": "code",
   "execution_count": null,
   "id": "d09829e2",
   "metadata": {},
   "outputs": [],
   "source": [
    "# polynom 2deg regression\n",
    "for i in range(data.shape[1]):\n",
    "    for j in range(data.shape[2]):\n",
    "        y = data[:, i, j]\n",
    "        if np.all(np.isnan(y)) or np.sum(~np.isnan(y)) < 5:\n",
    "            continue\n",
    "        if np.any(np.abs(y) > 1e6):\n",
    "            continue\n",
    "\n",
    "        x = np.array(years)\n",
    "\n",
    "        coeffs = np.polyfit(x, y, deg=2)\n",
    "        y_pred = np.polyval(coeffs, x)\n",
    "        rss = np.sum((y - y_pred) ** 2) # calculating Residual Sum of Squares, RSS\n",
    "        tss = np.sum((y - np.nanmean(y)) ** 2) # calculating Total Sum of Squares, TSS\n",
    "        if tss < 1e-6:\n",
    "            continue\n",
    "        r2[i, j] = 1 - rss / tss\n",
    "\n",
    "        # to get average polynom trend:\n",
    "        #trend_vals = 2 * coeffs[0] * x + coeffs[1]\n",
    "        #avg_trend = np.mean(trend_vals)\n",
    "        #slope[i, j] = avg_trend "
   ]
  },
  {
   "cell_type": "code",
   "execution_count": null,
   "id": "6ccffadf",
   "metadata": {},
   "outputs": [],
   "source": [
    "# export to raster format\n",
    "profile.update(dtype=rasterio.float32, count=1)\n",
    "with rasterio.open(output_sr_r2, 'w', **profile) as dst:\n",
    "    dst.write(r2, 1)"
   ]
  }
 ],
 "metadata": {
  "kernelspec": {
   "display_name": "venv",
   "language": "python",
   "name": "python3"
  },
  "language_info": {
   "codemirror_mode": {
    "name": "ipython",
    "version": 3
   },
   "file_extension": ".py",
   "mimetype": "text/x-python",
   "name": "python",
   "nbconvert_exporter": "python",
   "pygments_lexer": "ipython3",
   "version": "3.9.13"
  }
 },
 "nbformat": 4,
 "nbformat_minor": 5
}
